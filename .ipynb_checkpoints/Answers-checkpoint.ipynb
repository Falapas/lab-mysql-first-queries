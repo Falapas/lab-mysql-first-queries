{
 "cells": [
  {
   "cell_type": "code",
   "execution_count": 17,
   "metadata": {},
   "outputs": [],
   "source": [
    "#1. Which are the different genres?**\n",
    "\n",
    "# The different genres are:\n",
    "\n",
    "# Games\n",
    "# Productivity\n",
    "# Weather\n",
    "# Shopping\n",
    "# Reference\n",
    "# Finance\n",
    "# Music\n",
    "# Utilities\n",
    "# Travel\n",
    "# Social Networking\n",
    "# Sports\n",
    "# Business\n",
    "# Health & Fitness\n",
    "# Entertainment\n",
    "# Photo & Video\n",
    "# Navigation\n",
    "# Education#\n",
    "# Lifestyle\n",
    "# Food & Drink\n",
    "# News\n",
    "# Book\n",
    "# Medical\n",
    "# Catalogs"
   ]
  },
  {
   "cell_type": "code",
   "execution_count": 2,
   "metadata": {},
   "outputs": [],
   "source": [
    "#2. Which is the genre with more apps rated?**\n",
    "\n",
    "# The genre with more apps rated is Games."
   ]
  },
  {
   "cell_type": "code",
   "execution_count": 3,
   "metadata": {},
   "outputs": [],
   "source": [
    "#3. Which is the genre with more apps?**\n",
    "\n",
    "# The genre with more apps is also Games."
   ]
  },
  {
   "cell_type": "code",
   "execution_count": 4,
   "metadata": {},
   "outputs": [],
   "source": [
    "#4. Which is the one with less?**\n",
    "\n",
    "# The genre with less apps is Catalogs."
   ]
  },
  {
   "cell_type": "code",
   "execution_count": 5,
   "metadata": {},
   "outputs": [],
   "source": [
    "#5. Take the 10 apps most rated.**\n",
    "\n",
    "# The 10 most rated apps are:\n",
    "\n",
    "# Facebook                  2974676\n",
    "# Instagram\t                2161558\n",
    "# Clash of Clans            2130805\n",
    "# Temple Run\t            1724546\n",
    "# Pandora - Music & Radio\t1126879\n",
    "# Pinterest\t                1061624\n",
    "# Bible\t                    985920\n",
    "# Candy Crush Saga\t        961794\n",
    "# Spotify Music\t            878563\n",
    "# Angry Birds\t            824451"
   ]
  },
  {
   "cell_type": "code",
   "execution_count": 6,
   "metadata": {},
   "outputs": [],
   "source": [
    "#6. Take the 10 apps best rated by users.**\n",
    "\n",
    "# The 10 best rated apps by users are:\n",
    "\n",
    "# Head Soccer\t                                         5.0\t481564\n",
    "# Plants vs. Zombies\t                                 5.0\t426463\n",
    "# Sniper 3D Assassin: Shoot to Kill Gun Game\t         5.0\t386521\n",
    "# Geometry Dash Lite\t                                 5.0\t370370\n",
    "# Infinity Blade\t                                     5.0\t326482\n",
    "# Geometry Dash\t                                         5.0\t266440\n",
    "# Domino's Pizza USA\t                                 5.0\t258624\n",
    "# CSR Racing 2\t                                         5.0\t257100\n",
    "# Pictoword: Fun 2 Pics Guess What's the Word Trivia\t 5.0\t186089\n",
    "# Plants vs. Zombies HD\t                                 5.0\t163598"
   ]
  },
  {
   "cell_type": "code",
   "execution_count": 7,
   "metadata": {},
   "outputs": [],
   "source": [
    "#7. Take a look on the data you retrieved in the question 5. Give some insights.**\n",
    "\n",
    "# The top 10 apps with most ratings are social-media apps, audio apps, or game apps."
   ]
  },
  {
   "cell_type": "code",
   "execution_count": 8,
   "metadata": {},
   "outputs": [],
   "source": [
    "#8. Take a look on the data you retrieved in the question 6. Give some insights.**\n",
    "\n",
    "# The 10 apps best rated by users are all game apps, except for one."
   ]
  },
  {
   "cell_type": "code",
   "execution_count": 9,
   "metadata": {},
   "outputs": [],
   "source": [
    "#9. Now compare the data from questions 5 and 6. What do you see?**\n",
    "\n",
    "# The more number of ratings there is, the more difficult it gets to have an average rating of 5.0."
   ]
  },
  {
   "cell_type": "code",
   "execution_count": 10,
   "metadata": {},
   "outputs": [],
   "source": [
    "#10. How could you take the top 3 regarding the user ratings but also the number of votes?**\n",
    "\n",
    "# Would have to group by trackname, order by user_rating, and rating_count_tot limit 3 in order to take the top 3."
   ]
  },
  {
   "cell_type": "code",
   "execution_count": 11,
   "metadata": {},
   "outputs": [],
   "source": [
    "#11. Does people care about the price?** Do some queries, comment why are you doing them and the results you retrieve. What is your conclusion?\n",
    "\n",
    "# The ratings are higher for priced apps, so we can say that people care for priced apps. Free apps are rated more often, but with lower ratings, and we can deduce that they are also downloaded more often then the other apps."
   ]
  }
 ],
 "metadata": {
  "kernelspec": {
   "display_name": "Python 3",
   "language": "python",
   "name": "python3"
  },
  "language_info": {
   "codemirror_mode": {
    "name": "ipython",
    "version": 3
   },
   "file_extension": ".py",
   "mimetype": "text/x-python",
   "name": "python",
   "nbconvert_exporter": "python",
   "pygments_lexer": "ipython3",
   "version": "3.8.3"
  }
 },
 "nbformat": 4,
 "nbformat_minor": 4
}
